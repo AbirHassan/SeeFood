{
 "cells": [
  {
   "cell_type": "code",
   "execution_count": 233,
   "metadata": {
    "collapsed": true
   },
   "outputs": [],
   "source": [
    "from PIL import Image\n",
    "import numpy as np\n",
    "import pandas as pd\n",
    "import skimage.io\n",
    "import skimage.transform\n",
    "import matplotlib.pyplot as plt\n",
    "import keras\n",
    "import os\n",
    "from keras import Model, Sequential\n",
    "from keras.layers import Conv2D, MaxPooling2D, Dense, Flatten, BatchNormalization\n",
    "from io import BytesIO\n",
    "%matplotlib inline"
   ]
  },
  {
   "cell_type": "code",
   "execution_count": 235,
   "metadata": {
    "collapsed": true
   },
   "outputs": [],
   "source": [
    "folder_names = [\"burger\", \"cheesecake\", \"frenchfries\", \"pizza\"]\n",
    "folder_array = [np.array([0,0,0,0,1]),np.array([0,0,0,1,0]),np.array([0,0,1,0,0]),np.array([0,1,0,0,0])]\n",
    "num_classes = len(folder_names) + 1"
   ]
  },
  {
   "cell_type": "markdown",
   "metadata": {},
   "source": [
    "Checks if all the folders are present in the working directory."
   ]
  },
  {
   "cell_type": "code",
   "execution_count": 234,
   "metadata": {
    "collapsed": true
   },
   "outputs": [],
   "source": [
    "for dir_name in folder_names:\n",
    "    dir_exists = os.path.isdir(dir_name)\n",
    "    if not dir_exists:\n",
    "        print(\"{} not found, exiting application\".format(dir_name))\n",
    "        exit(1)"
   ]
  },
  {
   "cell_type": "markdown",
   "metadata": {},
   "source": [
    "Function to scale down all the images to a 200 x 200 image. The scaled images are then stored in a new folder to be used to train the convolutional neural network. "
   ]
  },
  {
   "cell_type": "code",
   "execution_count": 59,
   "metadata": {
    "collapsed": true
   },
   "outputs": [],
   "source": [
    "def resizeImages(dir_name):\n",
    "    dirs = os.listdir(dir_name)\n",
    "    os.mkdir(dir_name+\"_resized\")\n",
    "    for item in dirs:\n",
    "        if (item == \".DS_Store\"): continue\n",
    "        if os.path.isfile(dir_name+'/'+item):\n",
    "                im = Image.open(dir_name+'/'+item)\n",
    "                f, e = os.path.splitext(dir_name+\"_resized/\"+item)\n",
    "                imResize = im.resize((200,200), Image.ANTIALIAS)\n",
    "                imResize.save(f + ' resized.jpg', 'PNG', quality=90)\n",
    "        else:\n",
    "            print(\"UH OH\")\n"
   ]
  },
  {
   "cell_type": "markdown",
   "metadata": {},
   "source": [
    "Resizing all the images in the training dataset to be of the same size. "
   ]
  },
  {
   "cell_type": "code",
   "execution_count": null,
   "metadata": {
    "collapsed": true
   },
   "outputs": [],
   "source": [
    "for folder in folder_names:\n",
    "    resizeImages(folder)"
   ]
  },
  {
   "cell_type": "markdown",
   "metadata": {},
   "source": [
    "Converts all the images in the directory to a numpy array and then returns a list containing numpy arrays for images corresponding to a certain category of food. "
   ]
  },
  {
   "cell_type": "code",
   "execution_count": 62,
   "metadata": {
    "collapsed": true
   },
   "outputs": [],
   "source": [
    "def convertImageToNumpyArray(dir_name):\n",
    "    image_arr = []\n",
    "    dirs = os.listdir(dir_name+\"_resized\")\n",
    "    for item in dirs: \n",
    "        if (item == \".DS_Store\"): continue\n",
    "        im = Image.open(dir_name+\"_resized/\"+item)\n",
    "        im.load()\n",
    "        image_arr.append(np.asarray(im, dtype=\"int32\"))\n",
    "    return image_arr"
   ]
  },
  {
   "cell_type": "code",
   "execution_count": 254,
   "metadata": {},
   "outputs": [
    {
     "name": "stdout",
     "output_type": "stream",
     "text": [
      "4\n"
     ]
    }
   ],
   "source": [
    "training_images = []\n",
    "for folder in folder_names:\n",
    "    training_images.append(convertImageToNumpyArray(folder))\n",
    "\n",
    "print(len(training_images))"
   ]
  },
  {
   "cell_type": "code",
   "execution_count": 255,
   "metadata": {},
   "outputs": [
    {
     "name": "stdout",
     "output_type": "stream",
     "text": [
      "2904\n"
     ]
    }
   ],
   "source": [
    "num_examples = 0\n",
    "for training_image in training_images:\n",
    "    num_examples += len(training_image)\n",
    "\n",
    "print(num_examples)"
   ]
  },
  {
   "cell_type": "code",
   "execution_count": 256,
   "metadata": {
    "collapsed": true
   },
   "outputs": [],
   "source": [
    "X = np.zeros((num_examples, 200, 200, 3))\n",
    "Y = np.zeros((num_examples, num_classes))"
   ]
  },
  {
   "cell_type": "code",
   "execution_count": 257,
   "metadata": {
    "collapsed": true
   },
   "outputs": [],
   "source": [
    "index = 0\n",
    "for folder in range(len(folder_names)):\n",
    "    for image in range(len(training_images[folder])):\n",
    "        X[index, :, :, :] = training_images[folder][image]\n",
    "        Y[index, :] = folder_array[folder]\n",
    "        index += 1"
   ]
  },
  {
   "cell_type": "code",
   "execution_count": null,
   "metadata": {
    "collapsed": true
   },
   "outputs": [],
   "source": [
    "from sklearn.model_selection import train_test_split\n",
    "\n",
    "X_tr, X_ts, Y_tr, Y_ts = train_test_split(\n",
    "    X, Y, test_size=0.2, random_state=42, shuffle=True)\n",
    "\n",
    "print(X_tr[0].shape)"
   ]
  },
  {
   "cell_type": "code",
   "execution_count": 322,
   "metadata": {
    "collapsed": true
   },
   "outputs": [],
   "source": [
    "keras.backend.clear_session()"
   ]
  },
  {
   "cell_type": "code",
   "execution_count": 298,
   "metadata": {
    "collapsed": true
   },
   "outputs": [],
   "source": [
    "# try Tanh activation"
   ]
  },
  {
   "cell_type": "code",
   "execution_count": 299,
   "metadata": {
    "collapsed": true
   },
   "outputs": [],
   "source": [
    "input_shape = X_tr[0].shape\n",
    "\n",
    "# Modify model layers to increase accuracy\n",
    "# ------------------------------------------------\n",
    "# Model 1\n",
    "# ------------------------------------------------\n",
    "\n",
    "model = Sequential()\n",
    "model.add(Conv2D(32, kernel_size=(3, 3), strides=(1, 1), activation='relu', input_shape=input_shape))\n",
    "model.add(MaxPooling2D(pool_size=(2, 2), strides=(2, 2)))\n",
    "model.add(Conv2D(64, (3, 3), activation='relu'))\n",
    "model.add(MaxPooling2D(pool_size=(2, 2)))\n",
    "model.add(Conv2D(64, (3, 3), activation='relu'))\n",
    "model.add(Conv2D(64, (4, 4), activation='relu'))\n",
    "model.add(MaxPooling2D(pool_size=(2, 2)))\n",
    "model.add(Flatten())\n",
    "model.add(Dense(2000, activation='relu'))\n",
    "model.add(Dense(1000, activation='relu'))\n",
    "model.add(Dense(500, activation='relu'))\n",
    "model.add(Dense(num_classes, activation='softmax'))"
   ]
  },
  {
   "cell_type": "code",
   "execution_count": 323,
   "metadata": {
    "collapsed": true
   },
   "outputs": [],
   "source": [
    "input_shape = X_tr[0].shape\n",
    "\n",
    "# Modify model layers to increase accuracy\n",
    "# ------------------------------------------------\n",
    "# Model 2\n",
    "# ------------------------------------------------\n",
    "\n",
    "model = Sequential()\n",
    "model.add(Conv2D(32, kernel_size=(3, 3), strides=(1, 1), activation='relu', input_shape=input_shape))\n",
    "model.add(BatchNormalization())\n",
    "model.add(MaxPooling2D(pool_size=(2, 2), strides=(2, 2)))\n",
    "model.add(Conv2D(64, (3, 3), activation='relu'))\n",
    "model.add(BatchNormalization())\n",
    "model.add(MaxPooling2D(pool_size=(2, 2)))\n",
    "model.add(Conv2D(64, (3, 3), activation='relu'))\n",
    "model.add(BatchNormalization())\n",
    "model.add(Conv2D(64, (4, 4), activation='relu'))\n",
    "model.add(BatchNormalization())\n",
    "model.add(MaxPooling2D(pool_size=(2, 2)))\n",
    "model.add(Flatten())\n",
    "model.add(Dense(2000, activation='relu'))\n",
    "model.add(Dense(1000, activation='relu'))\n",
    "model.add(BatchNormalization())\n",
    "model.add(Dense(500, activation='relu'))\n",
    "model.add(Dense(num_classes, activation='softmax'))"
   ]
  },
  {
   "cell_type": "code",
   "execution_count": 324,
   "metadata": {},
   "outputs": [
    {
     "name": "stdout",
     "output_type": "stream",
     "text": [
      "_________________________________________________________________\n",
      "Layer (type)                 Output Shape              Param #   \n",
      "=================================================================\n",
      "conv2d_1 (Conv2D)            (None, 198, 198, 32)      896       \n",
      "_________________________________________________________________\n",
      "batch_normalization_1 (Batch (None, 198, 198, 32)      128       \n",
      "_________________________________________________________________\n",
      "max_pooling2d_1 (MaxPooling2 (None, 99, 99, 32)        0         \n",
      "_________________________________________________________________\n",
      "conv2d_2 (Conv2D)            (None, 97, 97, 64)        18496     \n",
      "_________________________________________________________________\n",
      "batch_normalization_2 (Batch (None, 97, 97, 64)        256       \n",
      "_________________________________________________________________\n",
      "max_pooling2d_2 (MaxPooling2 (None, 48, 48, 64)        0         \n",
      "_________________________________________________________________\n",
      "conv2d_3 (Conv2D)            (None, 46, 46, 64)        36928     \n",
      "_________________________________________________________________\n",
      "batch_normalization_3 (Batch (None, 46, 46, 64)        256       \n",
      "_________________________________________________________________\n",
      "conv2d_4 (Conv2D)            (None, 43, 43, 64)        65600     \n",
      "_________________________________________________________________\n",
      "batch_normalization_4 (Batch (None, 43, 43, 64)        256       \n",
      "_________________________________________________________________\n",
      "max_pooling2d_3 (MaxPooling2 (None, 21, 21, 64)        0         \n",
      "_________________________________________________________________\n",
      "flatten_1 (Flatten)          (None, 28224)             0         \n",
      "_________________________________________________________________\n",
      "dense_1 (Dense)              (None, 2000)              56450000  \n",
      "_________________________________________________________________\n",
      "dense_2 (Dense)              (None, 1000)              2001000   \n",
      "_________________________________________________________________\n",
      "batch_normalization_5 (Batch (None, 1000)              4000      \n",
      "_________________________________________________________________\n",
      "dense_3 (Dense)              (None, 500)               500500    \n",
      "_________________________________________________________________\n",
      "dense_4 (Dense)              (None, 5)                 2505      \n",
      "=================================================================\n",
      "Total params: 59,080,821\n",
      "Trainable params: 59,078,373\n",
      "Non-trainable params: 2,448\n",
      "_________________________________________________________________\n"
     ]
    }
   ],
   "source": [
    "model.summary()"
   ]
  },
  {
   "cell_type": "code",
   "execution_count": 325,
   "metadata": {
    "collapsed": true
   },
   "outputs": [],
   "source": [
    "class LossHistory(keras.callbacks.Callback):\n",
    "    def on_train_begin(self, logs={}):\n",
    "        self.loss = []\n",
    "        self.val_acc = []\n",
    "        self.acc = []\n",
    "        \n",
    "    def on_batch_end(self, batch, logs={}):\n",
    "        self.loss.append(logs.get('loss'))\n",
    "        \n",
    "    def on_epoch_end(self, epoch, logs):\n",
    "        self.val_acc.append(logs.get('val_acc'))\n",
    "        self.acc.append(logs.get('acc'))\n",
    "\n",
    "history_cb = LossHistory()"
   ]
  },
  {
   "cell_type": "code",
   "execution_count": 326,
   "metadata": {
    "collapsed": true
   },
   "outputs": [],
   "source": [
    "from keras import optimizers\n",
    "\n",
    "opt = optimizers.Adam(lr=0.01)\n",
    "model.compile(optimizer=opt,\n",
    "              loss='categorical_crossentropy',\n",
    "              metrics=['accuracy'])"
   ]
  },
  {
   "cell_type": "code",
   "execution_count": null,
   "metadata": {},
   "outputs": [
    {
     "name": "stdout",
     "output_type": "stream",
     "text": [
      "Train on 2323 samples, validate on 581 samples\n",
      "Epoch 1/20\n",
      "2323/2323 [==============================] - 358s 154ms/step - loss: 4.0440 - acc: 0.3706 - val_loss: 11.1896 - val_acc: 0.2806\n",
      "Epoch 2/20\n",
      "2323/2323 [==============================] - 353s 152ms/step - loss: 2.2353 - acc: 0.4016 - val_loss: 11.6626 - val_acc: 0.2668\n",
      "Epoch 3/20\n",
      "2323/2323 [==============================] - 3156s 1s/step - loss: 1.6815 - acc: 0.4085 - val_loss: 1.9925 - val_acc: 0.3580\n",
      "Epoch 4/20\n",
      "2323/2323 [==============================] - 363s 156ms/step - loss: 1.5012 - acc: 0.4546 - val_loss: 1.2029 - val_acc: 0.4871\n",
      "Epoch 5/20\n",
      "2323/2323 [==============================] - 362s 156ms/step - loss: 1.4030 - acc: 0.4787 - val_loss: 1.4838 - val_acc: 0.3632\n",
      "Epoch 6/20\n",
      "2323/2323 [==============================] - 367s 158ms/step - loss: 1.1453 - acc: 0.5213 - val_loss: 1.5748 - val_acc: 0.3718\n",
      "Epoch 7/20\n",
      "2323/2323 [==============================] - 357s 154ms/step - loss: 1.0899 - acc: 0.5019 - val_loss: 1.3085 - val_acc: 0.4458\n",
      "Epoch 8/20\n",
      "2323/2323 [==============================] - 367s 158ms/step - loss: 1.0600 - acc: 0.5295 - val_loss: 1.1591 - val_acc: 0.5301\n",
      "Epoch 9/20\n",
      "2323/2323 [==============================] - 382s 164ms/step - loss: 1.0073 - acc: 0.5506 - val_loss: 1.0430 - val_acc: 0.5783\n",
      "Epoch 10/20\n",
      "2323/2323 [==============================] - 362s 156ms/step - loss: 0.9609 - acc: 0.5923 - val_loss: 1.3103 - val_acc: 0.4251\n",
      "Epoch 11/20\n",
      "2323/2323 [==============================] - 392s 169ms/step - loss: 0.8813 - acc: 0.6328 - val_loss: 0.9447 - val_acc: 0.6368\n",
      "Epoch 12/20\n",
      "2323/2323 [==============================] - 374s 161ms/step - loss: 0.7570 - acc: 0.7073 - val_loss: 0.9440 - val_acc: 0.6558\n",
      "Epoch 13/20\n",
      "2323/2323 [==============================] - 378s 163ms/step - loss: 0.6549 - acc: 0.7559 - val_loss: 0.9087 - val_acc: 0.6609\n",
      "Epoch 14/20\n",
      "2323/2323 [==============================] - 375s 162ms/step - loss: 0.5895 - acc: 0.7783 - val_loss: 1.8292 - val_acc: 0.3855\n",
      "Epoch 15/20\n",
      "2323/2323 [==============================] - 3350s 1s/step - loss: 0.5537 - acc: 0.7960 - val_loss: 1.5942 - val_acc: 0.5077\n",
      "Epoch 16/20\n",
      "2323/2323 [==============================] - 362s 156ms/step - loss: 0.5107 - acc: 0.8274 - val_loss: 0.8789 - val_acc: 0.7384\n",
      "Epoch 17/20\n"
     ]
    }
   ],
   "source": [
    "model.fit(X_tr, Y_tr, epochs=20, batch_size=42, validation_data=(X_ts, Y_ts), callbacks=[history_cb])"
   ]
  },
  {
   "cell_type": "code",
   "execution_count": null,
   "metadata": {
    "collapsed": true
   },
   "outputs": [],
   "source": [
    "model.save('reLu_59,080,821_9897_8072')"
   ]
  },
  {
   "cell_type": "code",
   "execution_count": 166,
   "metadata": {
    "collapsed": true
   },
   "outputs": [],
   "source": [
    "model = keras.models.load_model('')"
   ]
  },
  {
   "cell_type": "code",
   "execution_count": 328,
   "metadata": {
    "collapsed": true
   },
   "outputs": [],
   "source": [
    "mode21Hist = history_cb"
   ]
  },
  {
   "cell_type": "code",
   "execution_count": 332,
   "metadata": {},
   "outputs": [
    {
     "data": {
      "text/plain": [
       "Text(0,0.5,'Accuracy')"
      ]
     },
     "execution_count": 332,
     "metadata": {},
     "output_type": "execute_result"
    },
    {
     "data": {
      "image/png": "[encoded data removed]",
      "text/plain": [
       "<matplotlib.figure.Figure at 0x1c644ac898>"
      ]
     },
     "metadata": {},
     "output_type": "display_data"
    }
   ],
   "source": [
    "mode21Hist.acc.append(0.9887)\n",
    "mode21Hist.val_acc.append(0.8072)\n",
    "xVal = np.arange(1, 21, 1)\n",
    "plt.plot(xVal, mode21Hist.acc)\n",
    "plt.plot(xVal, mode21Hist.val_acc)\n",
    "plt.title('Model 2 (with Batch Normalization)')\n",
    "plt.legend((\"Training\", \"Testing\"), loc=\"best\")\n",
    "plt.xlabel('Epoch')\n",
    "plt.ylabel('Accuracy')"
   ]
  },
  {
   "cell_type": "code",
   "execution_count": 303,
   "metadata": {
    "collapsed": true
   },
   "outputs": [],
   "source": [
    "model1Hist = history_cb"
   ]
  },
  {
   "cell_type": "code",
   "execution_count": 320,
   "metadata": {},
   "outputs": [
    {
     "data": {
      "text/plain": [
       "Text(0,0.5,'Accuracy')"
      ]
     },
     "execution_count": 320,
     "metadata": {},
     "output_type": "execute_result"
    },
    {
     "data": {
      "image/png": "[encoded data removed]",
      "text/plain": [
       "<matplotlib.figure.Figure at 0x1c9b1b2320>"
      ]
     },
     "metadata": {},
     "output_type": "display_data"
    }
   ],
   "source": [
    "xVal = np.arange(1, 21, 1)\n",
    "xValLoss = np.arange(1, 187, 1)\n",
    "plt.plot(xVal, model1Hist.acc)\n",
    "plt.plot(xVal, model1Hist.val_acc)\n",
    "plt.title('Model 1 (without Batch Normalization)')\n",
    "plt.legend((\"Training\", \"Testing\"), loc=\"best\")\n",
    "plt.xlabel('Epoch')\n",
    "plt.ylabel('Accuracy')"
   ]
  },
  {
   "cell_type": "code",
   "execution_count": null,
   "metadata": {
    "collapsed": true
   },
   "outputs": [],
   "source": [
    "plt.plot(xValLoss, model1Hist.loss)\n",
    "plt.title('Model 1 (without Batch Normalization)')\n",
    "plt.legend((\"Loss\"), loc=\"best\")\n",
    "plt.xlabel('Batch')\n",
    "plt.ylabel('Loss')"
   ]
  },
  {
   "cell_type": "code",
   "execution_count": null,
   "metadata": {
    "collapsed": true
   },
   "outputs": [],
   "source": []
  }
 ],
 "metadata": {
  "kernelspec": {
   "display_name": "Python 3",
   "language": "python",
   "name": "python3"
  },
  "language_info": {
   "codemirror_mode": {
    "name": "ipython",
    "version": 3
   },
   "file_extension": ".py",
   "mimetype": "text/x-python",
   "name": "python",
   "nbconvert_exporter": "python",
   "pygments_lexer": "ipython3",
   "version": "3.6.3"
  }
 },
 "nbformat": 4,
 "nbformat_minor": 2
}
